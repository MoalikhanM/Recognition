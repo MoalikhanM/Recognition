{
 "cells": [
  {
   "cell_type": "markdown",
   "id": "6f8479e3",
   "metadata": {},
   "source": [
    "# Import libraries"
   ]
  },
  {
   "cell_type": "code",
   "execution_count": 2,
   "id": "79e8bec4",
   "metadata": {},
   "outputs": [
    {
     "name": "stderr",
     "output_type": "stream",
     "text": [
      "C:\\Users\\aoral\\anaconda3\\envs\\tensorflow-gpu\\lib\\site-packages\\numpy\\_distributor_init.py:30: UserWarning: loaded more than 1 DLL from .libs:\n",
      "C:\\Users\\aoral\\anaconda3\\envs\\tensorflow-gpu\\lib\\site-packages\\numpy\\.libs\\libopenblas.FB5AE2TYXYH2IJRDKGDGQ3XBKLKTF43H.gfortran-win_amd64.dll\n",
      "C:\\Users\\aoral\\anaconda3\\envs\\tensorflow-gpu\\lib\\site-packages\\numpy\\.libs\\libopenblas64__v0.3.21-gcc_10_3_0.dll\n",
      "  warnings.warn(\"loaded more than 1 DLL from .libs:\"\n"
     ]
    }
   ],
   "source": [
    "from nrclex import NRCLex\n",
    "\n",
    "import numpy as np\n",
    "import pandas as pd"
   ]
  },
  {
   "cell_type": "markdown",
   "id": "9480b337",
   "metadata": {},
   "source": [
    "# Assign text"
   ]
  },
  {
   "cell_type": "code",
   "execution_count": 4,
   "id": "6faa7d11",
   "metadata": {},
   "outputs": [
    {
     "name": "stdout",
     "output_type": "stream",
     "text": [
      "\n",
      " ['good', 'project', 'but', 'horrible', 'communication']\n",
      "\n",
      " {'good': ['anticipation', 'joy', 'positive', 'surprise', 'trust'], 'horrible': ['anger', 'disgust', 'fear', 'negative'], 'communication': ['trust']}\n"
     ]
    }
   ],
   "source": [
    "text = 'good project but horrible communication'\n",
    "  \n",
    "# Create object\n",
    "emotion = NRCLex(text)\n",
    "  \n",
    "# Using methods to classify emotion\n",
    "print('\\n', emotion.words)\n",
    "print('\\n', emotion.affect_dict)"
   ]
  },
  {
   "cell_type": "markdown",
   "id": "27f95712",
   "metadata": {},
   "source": [
    "# Emotion Prediction"
   ]
  },
  {
   "cell_type": "code",
   "execution_count": 11,
   "id": "42f0aead",
   "metadata": {},
   "outputs": [
    {
     "name": "stdout",
     "output_type": "stream",
     "text": [
      "\n",
      " {'humbled': ['positive', 'sadness'], 'challenge': ['anger', 'fear', 'negative'], 'encourage': ['joy', 'positive', 'trust'], 'growth': ['positive'], 'build': ['positive']}\n",
      "\n",
      " {'positive': 4, 'sadness': 1, 'anger': 1, 'fear': 1, 'negative': 1, 'joy': 1, 'trust': 1}\n"
     ]
    }
   ],
   "source": [
    "text = 'I am humbled and honored to be surrounded by colleagues who challenge,' \\\n",
    "        'support and encourage me at each stage.'\\\n",
    "        'Through them, I’ve learned work isn’t just'\\\n",
    "        'about the tasks we set out to do, but the experiences,'\\\n",
    "        'growth and friendships we build along the way.'\n",
    "\n",
    "emotion = NRCLex(text)\n",
    "print('\\n', emotion.affect_dict)\n",
    "print('\\n', emotion.raw_emotion_scores)"
   ]
  },
  {
   "cell_type": "code",
   "execution_count": 13,
   "id": "a570d84f",
   "metadata": {},
   "outputs": [
    {
     "name": "stdout",
     "output_type": "stream",
     "text": [
      "\n",
      " {'proud': ['anticipation', 'joy', 'positive', 'trust'], 'time': ['anticipation'], 'happy': ['anticipation', 'joy', 'positive', 'trust'], 'love': ['joy', 'positive'], 'good': ['anticipation', 'joy', 'positive', 'surprise', 'trust']}\n",
      "\n",
      " {'anticipation': 4, 'joy': 4, 'positive': 4, 'trust': 3, 'surprise': 1}\n"
     ]
    }
   ],
   "source": [
    "text_test = 'I am really proud of what my children did,' \\\n",
    "        'but at the same time I am dissapointed that they are gone somewhere'\\\n",
    "        'and I am left alone that makes me sad.'\\\n",
    "        'However, I feel that their actions make the world a better place to bring happiness'\\\n",
    "        'and it makes me happy, so I really love my children and what they did good things.'\n",
    "\n",
    "emotion_test = NRCLex(text_test)\n",
    "print('\\n', emotion_test.affect_dict)\n",
    "print('\\n', emotion_test.raw_emotion_scores)"
   ]
  },
  {
   "cell_type": "code",
   "execution_count": 12,
   "id": "24695ffe",
   "metadata": {},
   "outputs": [
    {
     "name": "stdout",
     "output_type": "stream",
     "text": [
      "\n",
      " [('positive', 0.4)]\n"
     ]
    }
   ],
   "source": [
    "print('\\n', emotion.top_emotions)"
   ]
  },
  {
   "cell_type": "code",
   "execution_count": 14,
   "id": "acb37942",
   "metadata": {},
   "outputs": [
    {
     "name": "stdout",
     "output_type": "stream",
     "text": [
      "\n",
      " [('positive', 0.25), ('joy', 0.25), ('anticipation', 0.25)]\n"
     ]
    }
   ],
   "source": [
    "print('\\n', emotion_test.top_emotions)"
   ]
  },
  {
   "cell_type": "markdown",
   "id": "3bf6ae55",
   "metadata": {},
   "source": [
    "# Seperate words analyze"
   ]
  },
  {
   "cell_type": "code",
   "execution_count": 7,
   "id": "2e924f58",
   "metadata": {},
   "outputs": [
    {
     "name": "stdout",
     "output_type": "stream",
     "text": [
      "\n",
      "\n",
      " hate :  [('fear', 0.2), ('anger', 0.2), ('negative', 0.2), ('sadness', 0.2), ('disgust', 0.2)]\n",
      "\n",
      "\n",
      " lovely :  [('trust', 0.16666666666666666), ('surprise', 0.16666666666666666), ('positive', 0.16666666666666666), ('sadness', 0.16666666666666666), ('joy', 0.16666666666666666), ('anticipation', 0.16666666666666666)]\n",
      "\n",
      "\n",
      " person :  [('fear', 0.0), ('anger', 0.0), ('anticip', 0.0), ('trust', 0.0), ('surprise', 0.0), ('positive', 0.0), ('negative', 0.0), ('sadness', 0.0), ('disgust', 0.0), ('joy', 0.0)]\n",
      "\n",
      "\n",
      " worst :  [('fear', 0.0), ('anger', 0.0), ('anticip', 0.0), ('trust', 0.0), ('surprise', 0.0), ('positive', 0.0), ('negative', 0.0), ('sadness', 0.0), ('disgust', 0.0), ('joy', 0.0)]\n"
     ]
    }
   ],
   "source": [
    "text = ['hate', 'lovely', 'person', 'worst']\n",
    " \n",
    "# Iterate through list\n",
    "for i in range(len(text)):\n",
    " \n",
    "    # Create object\n",
    "    emotion = NRCLex(text[i])\n",
    " \n",
    "    # Classify emotion\n",
    "    print('\\n\\n', text[i], ': ', emotion.top_emotions)"
   ]
  },
  {
   "cell_type": "code",
   "execution_count": 8,
   "id": "fa3f1681",
   "metadata": {},
   "outputs": [
    {
     "name": "stdout",
     "output_type": "stream",
     "text": [
      "\n",
      " ['love']\n",
      "\n",
      " [Sentence(\"love\")]\n",
      "\n",
      " ['joy', 'positive']\n",
      "\n",
      " {'love': ['joy', 'positive']}\n",
      "\n",
      " {'joy': 1, 'positive': 1}\n",
      "\n",
      " [('positive', 0.5), ('joy', 0.5)]\n",
      "\n",
      " {'fear': 0.0, 'anger': 0.0, 'anticip': 0.0, 'trust': 0.0, 'surprise': 0.0, 'positive': 0.5, 'negative': 0.0, 'sadness': 0.0, 'disgust': 0.0, 'joy': 0.5}\n"
     ]
    }
   ],
   "source": [
    "# Assign emotion\n",
    "text = 'love'\n",
    " \n",
    "# Create object\n",
    "emotion = NRCLex(text)\n",
    " \n",
    "# Using methods to classigy emotion\n",
    "print('\\n', emotion.words)\n",
    "print('\\n', emotion.sentences)\n",
    "print('\\n', emotion.affect_list)\n",
    "print('\\n', emotion.affect_dict)\n",
    "print('\\n', emotion.raw_emotion_scores)\n",
    "print('\\n', emotion.top_emotions)\n",
    "print('\\n', emotion.affect_frequencies)"
   ]
  },
  {
   "cell_type": "code",
   "execution_count": null,
   "id": "acca7973",
   "metadata": {},
   "outputs": [],
   "source": []
  },
  {
   "cell_type": "markdown",
   "id": "91db8fd7",
   "metadata": {},
   "source": [
    "# Emotion Detector"
   ]
  },
  {
   "cell_type": "code",
   "execution_count": 1,
   "id": "ecf31e2a",
   "metadata": {},
   "outputs": [
    {
     "name": "stderr",
     "output_type": "stream",
     "text": [
      "C:\\Users\\aoral\\anaconda3\\envs\\tensorflow-gpu\\lib\\site-packages\\numpy\\_distributor_init.py:30: UserWarning: loaded more than 1 DLL from .libs:\n",
      "C:\\Users\\aoral\\anaconda3\\envs\\tensorflow-gpu\\lib\\site-packages\\numpy\\.libs\\libopenblas.FB5AE2TYXYH2IJRDKGDGQ3XBKLKTF43H.gfortran-win_amd64.dll\n",
      "C:\\Users\\aoral\\anaconda3\\envs\\tensorflow-gpu\\lib\\site-packages\\numpy\\.libs\\libopenblas64__v0.3.21-gcc_10_3_0.dll\n",
      "  warnings.warn(\"loaded more than 1 DLL from .libs:\"\n",
      "A matching Triton is not available, some optimizations will not be enabled.\n",
      "Error caught was: No module named 'triton'\n"
     ]
    },
    {
     "name": "stdout",
     "output_type": "stream",
     "text": [
      "[{'label': 'disappointment', 'score': 0.46669498085975647}, {'label': 'sadness', 'score': 0.3984951376914978}, {'label': 'annoyance', 'score': 0.06806589663028717}, {'label': 'neutral', 'score': 0.057030197232961655}, {'label': 'disapproval', 'score': 0.044239286333322525}, {'label': 'nervousness', 'score': 0.014850745908915997}, {'label': 'realization', 'score': 0.014059898443520069}, {'label': 'approval', 'score': 0.011267454363405704}, {'label': 'joy', 'score': 0.006303394213318825}, {'label': 'remorse', 'score': 0.006221492309123278}, {'label': 'caring', 'score': 0.006029400508850813}, {'label': 'embarrassment', 'score': 0.005265483167022467}, {'label': 'anger', 'score': 0.004981426056474447}, {'label': 'disgust', 'score': 0.004259029403328896}, {'label': 'grief', 'score': 0.0040021371096372604}, {'label': 'confusion', 'score': 0.003382916795089841}, {'label': 'relief', 'score': 0.003140496090054512}, {'label': 'desire', 'score': 0.002827469725161791}, {'label': 'admiration', 'score': 0.002815793501213193}, {'label': 'fear', 'score': 0.002707521663978696}, {'label': 'optimism', 'score': 0.0026164900045841932}, {'label': 'love', 'score': 0.0024883896112442017}, {'label': 'excitement', 'score': 0.0024494787212461233}, {'label': 'curiosity', 'score': 0.0023743605706840754}, {'label': 'amusement', 'score': 0.001746696187183261}, {'label': 'surprise', 'score': 0.001452984637580812}, {'label': 'gratitude', 'score': 0.0006464764592237771}, {'label': 'pride', 'score': 0.00055424973834306}]\n"
     ]
    }
   ],
   "source": [
    "from transformers import pipeline\n",
    "\n",
    "classifier = pipeline(task=\"text-classification\", model=\"SamLowe/roberta-base-go_emotions\", top_k=None)\n",
    "\n",
    "sentences = [\"I am not having a great day\"]\n",
    "\n",
    "model_outputs = classifier(sentences)\n",
    "print(model_outputs[0])\n",
    "# produces a list of dicts for each of the labels"
   ]
  },
  {
   "cell_type": "code",
   "execution_count": 2,
   "id": "fd302581",
   "metadata": {},
   "outputs": [
    {
     "name": "stdout",
     "output_type": "stream",
     "text": [
      "Please enter a sentence: I am so proud that I am so happy\n",
      "[{'label': 'joy', 'score': 0.7588392496109009}, {'label': 'pride', 'score': 0.13052323460578918}, {'label': 'admiration', 'score': 0.09494653344154358}, {'label': 'relief', 'score': 0.0662451833486557}, {'label': 'excitement', 'score': 0.04905785247683525}, {'label': 'neutral', 'score': 0.04106767848134041}, {'label': 'approval', 'score': 0.03727378323674202}, {'label': 'gratitude', 'score': 0.02405831776559353}, {'label': 'realization', 'score': 0.02268194407224655}, {'label': 'caring', 'score': 0.011292918585240841}, {'label': 'annoyance', 'score': 0.011291603557765484}, {'label': 'optimism', 'score': 0.008524789474904537}, {'label': 'love', 'score': 0.007330508437007666}, {'label': 'sadness', 'score': 0.006925052031874657}, {'label': 'amusement', 'score': 0.006113833282142878}, {'label': 'embarrassment', 'score': 0.00602546613663435}, {'label': 'anger', 'score': 0.005690629128366709}, {'label': 'surprise', 'score': 0.005684025585651398}, {'label': 'disapproval', 'score': 0.005636563990265131}, {'label': 'disappointment', 'score': 0.005383352283388376}, {'label': 'desire', 'score': 0.004711157642304897}, {'label': 'nervousness', 'score': 0.00416233716532588}, {'label': 'grief', 'score': 0.003795972093939781}, {'label': 'fear', 'score': 0.003235994139686227}, {'label': 'remorse', 'score': 0.0029680903535336256}, {'label': 'confusion', 'score': 0.002133341506123543}, {'label': 'disgust', 'score': 0.001840514480136335}, {'label': 'curiosity', 'score': 0.0006027866038493812}]\n"
     ]
    }
   ],
   "source": [
    "# Ask the user to input a sentence\n",
    "input_sentence = input(\"Please enter a sentence: \")\n",
    "model_outputs_input = classifier(input_sentence)\n",
    "print(model_outputs_input[0])"
   ]
  },
  {
   "cell_type": "code",
   "execution_count": null,
   "id": "a40be6fe",
   "metadata": {},
   "outputs": [],
   "source": []
  }
 ],
 "metadata": {
  "kernelspec": {
   "display_name": "Python 3 (ipykernel)",
   "language": "python",
   "name": "python3"
  },
  "language_info": {
   "codemirror_mode": {
    "name": "ipython",
    "version": 3
   },
   "file_extension": ".py",
   "mimetype": "text/x-python",
   "name": "python",
   "nbconvert_exporter": "python",
   "pygments_lexer": "ipython3",
   "version": "3.9.16"
  }
 },
 "nbformat": 4,
 "nbformat_minor": 5
}
