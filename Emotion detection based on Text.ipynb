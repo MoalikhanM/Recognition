{
 "cells": [
  {
   "cell_type": "markdown",
   "id": "6f8479e3",
   "metadata": {},
   "source": [
    "# Import libraries"
   ]
  },
  {
   "cell_type": "code",
   "execution_count": 1,
   "id": "79e8bec4",
   "metadata": {},
   "outputs": [],
   "source": [
    "from nrclex import NRCLex\n",
    "\n",
    "import numpy as np\n",
    "import pandas as pd"
   ]
  },
  {
   "cell_type": "markdown",
   "id": "9480b337",
   "metadata": {},
   "source": [
    "# Assign text"
   ]
  },
  {
   "cell_type": "code",
   "execution_count": 3,
   "id": "6faa7d11",
   "metadata": {},
   "outputs": [
    {
     "name": "stdout",
     "output_type": "stream",
     "text": [
      "\n",
      " ['good', 'project', 'but', 'horrible', 'communication']\n",
      "\n",
      " {'good': ['anticipation', 'joy', 'positive', 'surprise', 'trust'], 'horrible': ['anger', 'disgust', 'fear', 'negative'], 'communication': ['trust']}\n"
     ]
    }
   ],
   "source": [
    "text = 'good project but horrible communication'\n",
    "  \n",
    "# Create object\n",
    "emotion = NRCLex(text)\n",
    "  \n",
    "# Using methods to classify emotion\n",
    "print('\\n', emotion.words)\n",
    "print('\\n', emotion.affect_dict)"
   ]
  },
  {
   "cell_type": "markdown",
   "id": "27f95712",
   "metadata": {},
   "source": [
    "# Emotion Prediction"
   ]
  },
  {
   "cell_type": "code",
   "execution_count": 4,
   "id": "42f0aead",
   "metadata": {},
   "outputs": [
    {
     "name": "stdout",
     "output_type": "stream",
     "text": [
      "\n",
      " {'humbled': ['positive', 'sadness'], 'challenge': ['anger', 'fear', 'negative'], 'encourage': ['joy', 'positive', 'trust'], 'growth': ['positive'], 'build': ['positive']}\n",
      "\n",
      " {'positive': 4, 'sadness': 1, 'anger': 1, 'fear': 1, 'negative': 1, 'joy': 1, 'trust': 1}\n"
     ]
    }
   ],
   "source": [
    "text = 'I am humbled and honored to be surrounded by colleagues who challenge,' \\\n",
    "        'support and encourage me at each stage.'\\\n",
    "        'Through them, I’ve learned work isn’t just'\\\n",
    "        'about the tasks we set out to do, but the experiences,'\\\n",
    "        'growth and friendships we build along the way.'\n",
    "\n",
    "emotion = NRCLex(text)\n",
    "print('\\n', emotion.affect_dict)\n",
    "print('\\n', emotion.raw_emotion_scores)"
   ]
  },
  {
   "cell_type": "code",
   "execution_count": 5,
   "id": "24695ffe",
   "metadata": {},
   "outputs": [
    {
     "name": "stdout",
     "output_type": "stream",
     "text": [
      "\n",
      " [('positive', 0.4)]\n"
     ]
    }
   ],
   "source": [
    "print('\\n', emotion.top_emotions)"
   ]
  },
  {
   "cell_type": "markdown",
   "id": "3bf6ae55",
   "metadata": {},
   "source": [
    "# Seperate words analyze"
   ]
  },
  {
   "cell_type": "code",
   "execution_count": 6,
   "id": "2e924f58",
   "metadata": {},
   "outputs": [
    {
     "name": "stdout",
     "output_type": "stream",
     "text": [
      "\n",
      "\n",
      " hate :  [('fear', 0.2), ('anger', 0.2), ('negative', 0.2), ('sadness', 0.2), ('disgust', 0.2)]\n",
      "\n",
      "\n",
      " lovely :  [('trust', 0.16666666666666666), ('surprise', 0.16666666666666666), ('positive', 0.16666666666666666), ('sadness', 0.16666666666666666), ('joy', 0.16666666666666666), ('anticipation', 0.16666666666666666)]\n",
      "\n",
      "\n",
      " person :  [('fear', 0.0), ('anger', 0.0), ('anticip', 0.0), ('trust', 0.0), ('surprise', 0.0), ('positive', 0.0), ('negative', 0.0), ('sadness', 0.0), ('disgust', 0.0), ('joy', 0.0)]\n",
      "\n",
      "\n",
      " worst :  [('fear', 0.0), ('anger', 0.0), ('anticip', 0.0), ('trust', 0.0), ('surprise', 0.0), ('positive', 0.0), ('negative', 0.0), ('sadness', 0.0), ('disgust', 0.0), ('joy', 0.0)]\n"
     ]
    }
   ],
   "source": [
    "text = ['hate', 'lovely', 'person', 'worst']\n",
    " \n",
    "# Iterate through list\n",
    "for i in range(len(text)):\n",
    " \n",
    "    # Create object\n",
    "    emotion = NRCLex(text[i])\n",
    " \n",
    "    # Classify emotion\n",
    "    print('\\n\\n', text[i], ': ', emotion.top_emotions)"
   ]
  },
  {
   "cell_type": "code",
   "execution_count": 7,
   "id": "fa3f1681",
   "metadata": {},
   "outputs": [
    {
     "name": "stdout",
     "output_type": "stream",
     "text": [
      "\n",
      " ['love']\n",
      "\n",
      " [Sentence(\"love\")]\n",
      "\n",
      " ['joy', 'positive']\n",
      "\n",
      " {'love': ['joy', 'positive']}\n",
      "\n",
      " {'joy': 1, 'positive': 1}\n",
      "\n",
      " [('positive', 0.5), ('joy', 0.5)]\n",
      "\n",
      " {'fear': 0.0, 'anger': 0.0, 'anticip': 0.0, 'trust': 0.0, 'surprise': 0.0, 'positive': 0.5, 'negative': 0.0, 'sadness': 0.0, 'disgust': 0.0, 'joy': 0.5}\n"
     ]
    }
   ],
   "source": [
    "# Assign emotion\n",
    "text = 'love'\n",
    " \n",
    "# Create object\n",
    "emotion = NRCLex(text)\n",
    " \n",
    "# Using methods to classigy emotion\n",
    "print('\\n', emotion.words)\n",
    "print('\\n', emotion.sentences)\n",
    "print('\\n', emotion.affect_list)\n",
    "print('\\n', emotion.affect_dict)\n",
    "print('\\n', emotion.raw_emotion_scores)\n",
    "print('\\n', emotion.top_emotions)\n",
    "print('\\n', emotion.affect_frequencies)"
   ]
  },
  {
   "cell_type": "code",
   "execution_count": null,
   "id": "acca7973",
   "metadata": {},
   "outputs": [],
   "source": []
  }
 ],
 "metadata": {
  "kernelspec": {
   "display_name": "Python 3 (ipykernel)",
   "language": "python",
   "name": "python3"
  },
  "language_info": {
   "codemirror_mode": {
    "name": "ipython",
    "version": 3
   },
   "file_extension": ".py",
   "mimetype": "text/x-python",
   "name": "python",
   "nbconvert_exporter": "python",
   "pygments_lexer": "ipython3",
   "version": "3.9.12"
  }
 },
 "nbformat": 4,
 "nbformat_minor": 5
}
